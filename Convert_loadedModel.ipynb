{
  "nbformat": 4,
  "nbformat_minor": 0,
  "metadata": {
    "colab": {
      "name": "Convert loadedModel.ipynb",
      "provenance": [],
      "authorship_tag": "ABX9TyP0shW32VAAfJ5BBqL3pefb",
      "include_colab_link": true
    },
    "kernelspec": {
      "name": "python3",
      "display_name": "Python 3"
    },
    "accelerator": "GPU"
  },
  "cells": [
    {
      "cell_type": "markdown",
      "metadata": {
        "id": "view-in-github",
        "colab_type": "text"
      },
      "source": [
        "<a href=\"https://colab.research.google.com/github/mattbal/allumer/blob/master/Convert_loadedModel.ipynb\" target=\"_parent\"><img src=\"https://colab.research.google.com/assets/colab-badge.svg\" alt=\"Open In Colab\"/></a>"
      ]
    },
    {
      "cell_type": "code",
      "metadata": {
        "id": "s7rStPHyblff",
        "colab_type": "code",
        "outputId": "b40611a4-421c-4236-d4ca-9a7d32a0d7cd",
        "colab": {
          "base_uri": "https://localhost:8080/",
          "height": 687
        }
      },
      "source": [
        "import tensorflow as tf\n",
        "import keras\n",
        "from numpy import loadtxt\n",
        "from keras.models import load_model\n",
        "from keras.preprocessing import image\n",
        "from keras.applications.resnet50 import preprocess_input, decode_predictions\n",
        "import cv2\n",
        "import numpy as np\n",
        "model = tf.keras.models.load_model('model.h5')\n",
        "model.summary()\n",
        "#model.evaluate"
      ],
      "execution_count": 0,
      "outputs": [
        {
          "output_type": "display_data",
          "data": {
            "text/html": [
              "<p style=\"color: red;\">\n",
              "The default version of TensorFlow in Colab will soon switch to TensorFlow 2.x.<br>\n",
              "We recommend you <a href=\"https://www.tensorflow.org/guide/migrate\" target=\"_blank\">upgrade</a> now \n",
              "or ensure your notebook will continue to use TensorFlow 1.x via the <code>%tensorflow_version 1.x</code> magic:\n",
              "<a href=\"https://colab.research.google.com/notebooks/tensorflow_version.ipynb\" target=\"_blank\">more info</a>.</p>\n"
            ],
            "text/plain": [
              "<IPython.core.display.HTML object>"
            ]
          },
          "metadata": {
            "tags": []
          }
        },
        {
          "output_type": "stream",
          "text": [
            "Using TensorFlow backend.\n"
          ],
          "name": "stderr"
        },
        {
          "output_type": "stream",
          "text": [
            "WARNING:tensorflow:From /usr/local/lib/python3.6/dist-packages/tensorflow_core/python/ops/resource_variable_ops.py:1630: calling BaseResourceVariable.__init__ (from tensorflow.python.ops.resource_variable_ops) with constraint is deprecated and will be removed in a future version.\n",
            "Instructions for updating:\n",
            "If using Keras pass *_constraint arguments to layers.\n",
            "WARNING:tensorflow:From /usr/local/lib/python3.6/dist-packages/tensorflow_core/python/ops/nn_impl.py:183: where (from tensorflow.python.ops.array_ops) is deprecated and will be removed in a future version.\n",
            "Instructions for updating:\n",
            "Use tf.where in 2.0, which has the same broadcast rule as np.where\n",
            "Model: \"model\"\n",
            "_________________________________________________________________\n",
            "Layer (type)                 Output Shape              Param #   \n",
            "=================================================================\n",
            "input_1 (InputLayer)         [(None, 224, 224, 3)]     0         \n",
            "_________________________________________________________________\n",
            "conv2d (Conv2D)              (None, 222, 222, 16)      448       \n",
            "_________________________________________________________________\n",
            "max_pooling2d (MaxPooling2D) (None, 111, 111, 16)      0         \n",
            "_________________________________________________________________\n",
            "conv2d_1 (Conv2D)            (None, 109, 109, 32)      4640      \n",
            "_________________________________________________________________\n",
            "max_pooling2d_1 (MaxPooling2 (None, 54, 54, 32)        0         \n",
            "_________________________________________________________________\n",
            "conv2d_2 (Conv2D)            (None, 52, 52, 64)        18496     \n",
            "_________________________________________________________________\n",
            "max_pooling2d_2 (MaxPooling2 (None, 26, 26, 64)        0         \n",
            "_________________________________________________________________\n",
            "flatten (Flatten)            (None, 43264)             0         \n",
            "_________________________________________________________________\n",
            "dense (Dense)                (None, 512)               22151680  \n",
            "_________________________________________________________________\n",
            "dense_1 (Dense)              (None, 1)                 513       \n",
            "=================================================================\n",
            "Total params: 22,175,777\n",
            "Trainable params: 22,175,777\n",
            "Non-trainable params: 0\n",
            "_________________________________________________________________\n"
          ],
          "name": "stdout"
        }
      ]
    },
    {
      "cell_type": "code",
      "metadata": {
        "id": "qeVKyUrMl42i",
        "colab_type": "code",
        "outputId": "d524e22b-4db0-4474-ce93-bc8044335250",
        "colab": {
          "base_uri": "https://localhost:8080/",
          "height": 54
        }
      },
      "source": [
        "tf.version"
      ],
      "execution_count": 0,
      "outputs": [
        {
          "output_type": "execute_result",
          "data": {
            "text/plain": [
              "<module 'tensorflow._api.v1.version' from '/usr/local/lib/python3.6/dist-packages/tensorflow_core/_api/v1/version/__init__.py'>"
            ]
          },
          "metadata": {
            "tags": []
          },
          "execution_count": 2
        }
      ]
    },
    {
      "cell_type": "code",
      "metadata": {
        "id": "6s92pRhRp3WF",
        "colab_type": "code",
        "outputId": "bed2458d-6e67-40c5-d956-53fa5d27816e",
        "colab": {
          "base_uri": "https://localhost:8080/",
          "height": 840
        }
      },
      "source": [
        "img_path = '93.jpg'\n",
        "img = image.load_img(img_path, target_size=(224,224))\n",
        "x = image.img_to_array(img)\n",
        "x = np.expand_dims(x, axis=0)\n",
        "preprocess_input(x)"
      ],
      "execution_count": 0,
      "outputs": [
        {
          "output_type": "execute_result",
          "data": {
            "text/plain": [
              "array([[[[55.060997, 65.221   , 74.32    ],\n",
              "         [53.060997, 62.221   , 73.32    ],\n",
              "         [52.060997, 61.221   , 72.32    ],\n",
              "         ...,\n",
              "         [47.060997, 47.221   , 62.32    ],\n",
              "         [49.060997, 49.221   , 64.32    ],\n",
              "         [47.060997, 47.221   , 62.32    ]],\n",
              "\n",
              "        [[54.060997, 64.221   , 73.32    ],\n",
              "         [53.060997, 62.221   , 73.32    ],\n",
              "         [52.060997, 61.221   , 72.32    ],\n",
              "         ...,\n",
              "         [47.060997, 47.221   , 62.32    ],\n",
              "         [48.060997, 48.221   , 63.32    ],\n",
              "         [47.060997, 47.221   , 62.32    ]],\n",
              "\n",
              "        [[52.060997, 62.221   , 71.32    ],\n",
              "         [52.060997, 61.221   , 72.32    ],\n",
              "         [51.060997, 60.221   , 71.32    ],\n",
              "         ...,\n",
              "         [47.060997, 47.221   , 62.32    ],\n",
              "         [48.060997, 48.221   , 63.32    ],\n",
              "         [47.060997, 47.221   , 62.32    ]],\n",
              "\n",
              "        ...,\n",
              "\n",
              "        [[61.060997, 62.221   , 74.32    ],\n",
              "         [60.060997, 61.221   , 73.32    ],\n",
              "         [61.060997, 62.221   , 73.32    ],\n",
              "         ...,\n",
              "         [43.060997, 44.221   , 60.32    ],\n",
              "         [42.060997, 42.221   , 61.32    ],\n",
              "         [41.060997, 41.221   , 60.32    ]],\n",
              "\n",
              "        [[58.060997, 60.221   , 72.32    ],\n",
              "         [57.060997, 59.221   , 71.32    ],\n",
              "         [58.060997, 60.221   , 72.32    ],\n",
              "         ...,\n",
              "         [45.060997, 45.221   , 64.32    ],\n",
              "         [43.060997, 43.221   , 62.32    ],\n",
              "         [42.060997, 42.221   , 61.32    ]],\n",
              "\n",
              "        [[56.060997, 57.221   , 72.32    ],\n",
              "         [55.060997, 57.221   , 69.32    ],\n",
              "         [56.060997, 58.221   , 70.32    ],\n",
              "         ...,\n",
              "         [45.060997, 45.221   , 64.32    ],\n",
              "         [42.060997, 42.221   , 61.32    ],\n",
              "         [40.060997, 40.221   , 59.32    ]]]], dtype=float32)"
            ]
          },
          "metadata": {
            "tags": []
          },
          "execution_count": 3
        }
      ]
    },
    {
      "cell_type": "code",
      "metadata": {
        "id": "9ASz4EC94f6A",
        "colab_type": "code",
        "outputId": "94d8fe2c-db45-4251-edb3-93c36364fd04",
        "colab": {
          "base_uri": "https://localhost:8080/",
          "height": 34
        }
      },
      "source": [
        "#verify image classification is still trained\n",
        "prediction = model.predict(x)[0][0]\n",
        "print(\"Prediction: \", prediction)"
      ],
      "execution_count": 0,
      "outputs": [
        {
          "output_type": "stream",
          "text": [
            "Prediction:  1.0\n"
          ],
          "name": "stdout"
        }
      ]
    },
    {
      "cell_type": "code",
      "metadata": {
        "id": "DGyzBSmWqr8H",
        "colab_type": "code",
        "outputId": "ffc64ffd-5e8a-4053-e68a-9ad8ec410a07",
        "colab": {
          "base_uri": "https://localhost:8080/",
          "height": 67
        }
      },
      "source": [
        "#convert to tensorflow lite model\n",
        "converter = tf.lite.TFLiteConverter.from_keras_model_file('model.h5')\n",
        "modelOut = converter.convert()\n",
        "file = open('modelOut.tflite','wb')\n",
        "file.write(modelOut)"
      ],
      "execution_count": 0,
      "outputs": [
        {
          "output_type": "stream",
          "text": [
            "INFO:tensorflow:Froze 10 variables.\n",
            "INFO:tensorflow:Converted 10 variables to const ops.\n"
          ],
          "name": "stdout"
        },
        {
          "output_type": "execute_result",
          "data": {
            "text/plain": [
              "88705760"
            ]
          },
          "metadata": {
            "tags": []
          },
          "execution_count": 8
        }
      ]
    }
  ]
}